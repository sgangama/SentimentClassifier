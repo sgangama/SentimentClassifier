{
 "cells": [
  {
   "cell_type": "code",
   "execution_count": 1,
   "id": "9cc82655",
   "metadata": {},
   "outputs": [
    {
     "name": "stderr",
     "output_type": "stream",
     "text": [
      "Matplotlib is building the font cache; this may take a moment.\n"
     ]
    }
   ],
   "source": [
    "import re\n",
    "import numpy as np\n",
    "import pandas as pd\n",
    "from sklearn.model_selection import train_test_split\n",
    "import matplotlib.pyplot as plt\n",
    "\n",
    "from tensorflow.keras.models import Sequential, load_model\n",
    "from tensorflow.keras.layers import Dense, LSTM, Embedding, Dropout\n",
    "from tensorflow.keras.preprocessing.text import Tokenizer\n",
    "from tensorflow.keras.preprocessing.sequence import pad_sequences"
   ]
  },
  {
   "cell_type": "code",
   "execution_count": 7,
   "id": "50a77668",
   "metadata": {},
   "outputs": [],
   "source": [
    "X_train= pd.read_csv('Train.csv', index_col=\"ID\")"
   ]
  },
  {
   "cell_type": "code",
   "execution_count": 8,
   "id": "c66cf3f4",
   "metadata": {},
   "outputs": [
    {
     "data": {
      "text/html": [
       "<div>\n",
       "<style scoped>\n",
       "    .dataframe tbody tr th:only-of-type {\n",
       "        vertical-align: middle;\n",
       "    }\n",
       "\n",
       "    .dataframe tbody tr th {\n",
       "        vertical-align: top;\n",
       "    }\n",
       "\n",
       "    .dataframe thead th {\n",
       "        text-align: right;\n",
       "    }\n",
       "</style>\n",
       "<table border=\"1\" class=\"dataframe\">\n",
       "  <thead>\n",
       "    <tr style=\"text-align: right;\">\n",
       "      <th></th>\n",
       "      <th>text</th>\n",
       "      <th>label</th>\n",
       "    </tr>\n",
       "    <tr>\n",
       "      <th>ID</th>\n",
       "      <th></th>\n",
       "      <th></th>\n",
       "    </tr>\n",
       "  </thead>\n",
       "  <tbody>\n",
       "    <tr>\n",
       "      <th>SUAVK39Z</th>\n",
       "      <td>I feel that it was better I dieAm happy</td>\n",
       "      <td>Depression</td>\n",
       "    </tr>\n",
       "    <tr>\n",
       "      <th>9JDAGUV3</th>\n",
       "      <td>Why do I get hallucinations?</td>\n",
       "      <td>Drugs</td>\n",
       "    </tr>\n",
       "    <tr>\n",
       "      <th>419WR1LQ</th>\n",
       "      <td>I am stresseed due to lack of financial suppor...</td>\n",
       "      <td>Depression</td>\n",
       "    </tr>\n",
       "    <tr>\n",
       "      <th>6UY7DX6Q</th>\n",
       "      <td>Why is life important?</td>\n",
       "      <td>Suicide</td>\n",
       "    </tr>\n",
       "    <tr>\n",
       "      <th>FYC0FTFB</th>\n",
       "      <td>How could I be helped to go through the depres...</td>\n",
       "      <td>Depression</td>\n",
       "    </tr>\n",
       "  </tbody>\n",
       "</table>\n",
       "</div>"
      ],
      "text/plain": [
       "                                                       text       label\n",
       "ID                                                                     \n",
       "SUAVK39Z            I feel that it was better I dieAm happy  Depression\n",
       "9JDAGUV3                       Why do I get hallucinations?       Drugs\n",
       "419WR1LQ  I am stresseed due to lack of financial suppor...  Depression\n",
       "6UY7DX6Q                             Why is life important?     Suicide\n",
       "FYC0FTFB  How could I be helped to go through the depres...  Depression"
      ]
     },
     "execution_count": 8,
     "metadata": {},
     "output_type": "execute_result"
    }
   ],
   "source": [
    "X_train.head()"
   ]
  },
  {
   "cell_type": "code",
   "execution_count": 10,
   "id": "5d225c3e",
   "metadata": {},
   "outputs": [],
   "source": [
    "data = X_train[['text', 'label']]"
   ]
  },
  {
   "cell_type": "code",
   "execution_count": 11,
   "id": "1e920f0e",
   "metadata": {},
   "outputs": [
    {
     "data": {
      "text/plain": [
       "<AxesSubplot:>"
      ]
     },
     "execution_count": 11,
     "metadata": {},
     "output_type": "execute_result"
    },
    {
     "data": {
      "image/png": "[encoded data removed]",
      "text/plain": [
       "<Figure size 432x288 with 1 Axes>"
      ]
     },
     "metadata": {
      "needs_background": "light"
     },
     "output_type": "display_data"
    }
   ],
   "source": [
    "data['label'].value_counts().sort_index().plot.bar()"
   ]
  },
  {
   "cell_type": "code",
   "execution_count": 12,
   "id": "0c33211b",
   "metadata": {},
   "outputs": [
    {
     "data": {
      "text/plain": [
       "<AxesSubplot:ylabel='Frequency'>"
      ]
     },
     "execution_count": 12,
     "metadata": {},
     "output_type": "execute_result"
    },
    {
     "data": {
      "image/png": "[encoded data removed]",
      "text/plain": [
       "<Figure size 432x288 with 1 Axes>"
      ]
     },
     "metadata": {
      "needs_background": "light"
     },
     "output_type": "display_data"
    }
   ],
   "source": [
    "data['text'].str.len().plot.hist()"
   ]
  },
  {
   "cell_type": "code",
   "execution_count": 13,
   "id": "ebed5e81",
   "metadata": {},
   "outputs": [
    {
     "data": {
      "text/plain": [
       "ID\n",
       "SUAVK39Z              I feel that it was better I dieAm happy\n",
       "9JDAGUV3                          Why do I get hallucinations\n",
       "419WR1LQ    I am stresseed due to lack of financial suppor...\n",
       "6UY7DX6Q                                Why is life important\n",
       "FYC0FTFB    How could I be helped to go through the depres...\n",
       "Name: text, dtype: object"
      ]
     },
     "execution_count": 13,
     "metadata": {},
     "output_type": "execute_result"
    }
   ],
   "source": [
    "data['text'].apply(lambda x: x.lower()) #transform text to lowercase\n",
    "data['text'] = data['text'].apply(lambda x: re.sub('[^a-zA-z0-9\\s]', '', x))\n",
    "data['text'].head()"
   ]
  },
  {
   "cell_type": "code",
   "execution_count": 14,
   "id": "e968cf1a",
   "metadata": {},
   "outputs": [
    {
     "data": {
      "text/plain": [
       "array([[  0,   0,   0,   0,   0,   0,   0,   0,   0,   0,   0,   0,   0,\n",
       "          0,   0,   0,   0,   0,   0,   0,   0,   0,   0,   0,   0,   0,\n",
       "          1,   4,  42,  22,  26,  45,   1, 353, 196],\n",
       "       [  0,   0,   0,   0,   0,   0,   0,   0,   0,   0,   0,   0,   0,\n",
       "          0,   0,   0,   0,   0,   0,   0,   0,   0,   0,   0,   0,   0,\n",
       "          0,   0,   0,   0,  20,  13,   1,  29, 246],\n",
       "       [  0,   0,   0,   0,   0,   0,   0,   0,   0,   0,   0,   0,   0,\n",
       "          0,   0,   0,   0,   0,   0,   0,   0,   0,   0,   0,   1,  14,\n",
       "        354, 355,   2, 131,   6, 104, 197,  16, 118],\n",
       "       [  0,   0,   0,   0,   0,   0,   0,   0,   0,   0,   0,   0,   0,\n",
       "          0,   0,   0,   0,   0,   0,   0,   0,   0,   0,   0,   0,   0,\n",
       "          0,   0,   0,   0,   0,  20,   9,  17, 198],\n",
       "       [  0,   0,   0,   0,   0,   0,   0,   0,   0,   0,   0,   0,   0,\n",
       "          0,   0,   0,   0,   0,   0,   0,   0,   0,   0,   0,   0,   3,\n",
       "         60,   1,  34, 132,   2, 199, 153,   5,  19]])"
      ]
     },
     "execution_count": 14,
     "metadata": {},
     "output_type": "execute_result"
    }
   ],
   "source": [
    "tokenizer = Tokenizer(num_words=5000, split=\" \")\n",
    "tokenizer.fit_on_texts(data['text'].values)\n",
    "\n",
    "X = tokenizer.texts_to_sequences(data['text'].values)\n",
    "X = pad_sequences(X) # padding our text vector so they all have the same length\n",
    "X[:5]"
   ]
  },
  {
   "cell_type": "code",
   "execution_count": 17,
   "id": "1051b577",
   "metadata": {},
   "outputs": [
    {
     "data": {
      "text/plain": [
       "(616, 35)"
      ]
     },
     "execution_count": 17,
     "metadata": {},
     "output_type": "execute_result"
    }
   ],
   "source": [
    "X.shape"
   ]
  },
  {
   "cell_type": "code",
   "execution_count": 30,
   "id": "28a94e57",
   "metadata": {},
   "outputs": [],
   "source": [
    "model=Sequential()\n",
    "model.add(Embedding(5000, 256, input_length=X.shape[1]))\n",
    "model.add(Dropout(0.5))\n",
    "model.add(LSTM(256, return_sequences=True, dropout=0.3, recurrent_dropout=0.2))\n",
    "model.add(LSTM(256, dropout=0.3, recurrent_dropout=0.2))\n",
    "model.add(Dense(4, activation='softmax'))"
   ]
  },
  {
   "cell_type": "code",
   "execution_count": 31,
   "id": "961341b5",
   "metadata": {},
   "outputs": [
    {
     "name": "stdout",
     "output_type": "stream",
     "text": [
      "Model: \"sequential_5\"\n",
      "_________________________________________________________________\n",
      "Layer (type)                 Output Shape              Param #   \n",
      "=================================================================\n",
      "embedding_5 (Embedding)      (None, 35, 256)           1280000   \n",
      "_________________________________________________________________\n",
      "dropout_5 (Dropout)          (None, 35, 256)           0         \n",
      "_________________________________________________________________\n",
      "lstm_11 (LSTM)               (None, 35, 256)           525312    \n",
      "_________________________________________________________________\n",
      "lstm_12 (LSTM)               (None, 256)               525312    \n",
      "_________________________________________________________________\n",
      "dense_4 (Dense)              (None, 4)                 1028      \n",
      "=================================================================\n",
      "Total params: 2,331,652\n",
      "Trainable params: 2,331,652\n",
      "Non-trainable params: 0\n",
      "_________________________________________________________________\n"
     ]
    }
   ],
   "source": [
    "model.compile(loss='categorical_crossentropy', optimizer='adam', metrics=['accuracy'])\n",
    "model.summary()"
   ]
  },
  {
   "cell_type": "code",
   "execution_count": 32,
   "id": "b53ba3ce",
   "metadata": {},
   "outputs": [
    {
     "name": "stdout",
     "output_type": "stream",
     "text": [
      "Depression [0 1 0 0]\n",
      "Drugs [0 0 1 0]\n",
      "Depression [0 1 0 0]\n",
      "Suicide [0 0 0 1]\n",
      "Depression [0 1 0 0]\n",
      "Depression [0 1 0 0]\n",
      "Depression [0 1 0 0]\n",
      "Depression [0 1 0 0]\n",
      "Alcohol [1 0 0 0]\n",
      "Drugs [0 0 1 0]\n"
     ]
    },
    {
     "data": {
      "text/plain": [
       "[None, None, None, None, None, None, None, None, None, None]"
      ]
     },
     "execution_count": 32,
     "metadata": {},
     "output_type": "execute_result"
    }
   ],
   "source": [
    "y = pd.get_dummies(data['label']).values\n",
    "[print(data['label'][i], y[i]) for i in range(0,10)]"
   ]
  },
  {
   "cell_type": "code",
   "execution_count": 33,
   "id": "422349d9",
   "metadata": {},
   "outputs": [],
   "source": [
    "X_train, X_test, y_train, y_test = train_test_split(X, y, test_size=0.1, random_state=0)"
   ]
  },
  {
   "cell_type": "code",
   "execution_count": 34,
   "id": "669ca4e1",
   "metadata": {},
   "outputs": [
    {
     "name": "stdout",
     "output_type": "stream",
     "text": [
      "Epoch 1/8\n",
      "28/28 - 21s - loss: 1.2360 - accuracy: 0.5440 - val_loss: 1.1588 - val_accuracy: 0.5856\n",
      "Epoch 2/8\n",
      "28/28 - 13s - loss: 1.0848 - accuracy: 0.5711 - val_loss: 0.9658 - val_accuracy: 0.6847\n",
      "Epoch 3/8\n",
      "28/28 - 13s - loss: 0.7862 - accuracy: 0.7133 - val_loss: 0.7545 - val_accuracy: 0.6847\n",
      "Epoch 4/8\n",
      "28/28 - 14s - loss: 0.5570 - accuracy: 0.7675 - val_loss: 0.6285 - val_accuracy: 0.7658\n",
      "Epoch 5/8\n",
      "28/28 - 14s - loss: 0.4213 - accuracy: 0.8510 - val_loss: 0.5991 - val_accuracy: 0.7387\n",
      "Epoch 6/8\n",
      "28/28 - 13s - loss: 0.3210 - accuracy: 0.8894 - val_loss: 0.4706 - val_accuracy: 0.8288\n",
      "Epoch 7/8\n",
      "28/28 - 14s - loss: 0.2021 - accuracy: 0.9210 - val_loss: 0.5771 - val_accuracy: 0.7928\n",
      "Epoch 8/8\n",
      "28/28 - 13s - loss: 0.1521 - accuracy: 0.9481 - val_loss: 0.4626 - val_accuracy: 0.8468\n"
     ]
    },
    {
     "data": {
      "text/plain": [
       "<tensorflow.python.keras.callbacks.History at 0x215e3ec16d0>"
      ]
     },
     "execution_count": 34,
     "metadata": {},
     "output_type": "execute_result"
    }
   ],
   "source": [
    "model.fit(X_train,y_train, epochs=8, batch_size=16, validation_split=0.2, verbose=2)"
   ]
  },
  {
   "cell_type": "code",
   "execution_count": 35,
   "id": "b3ea6b2e",
   "metadata": {},
   "outputs": [],
   "source": [
    "model.save('sentiment_analysis.h5')"
   ]
  },
  {
   "cell_type": "code",
   "execution_count": 36,
   "id": "2e3f9161",
   "metadata": {},
   "outputs": [
    {
     "name": "stdout",
     "output_type": "stream",
     "text": [
      "I feel that it was better I dieAm happy [7.1992340e-06 9.9995387e-01 8.6263854e-06 3.0267620e-05] [0 1 0 0]\n",
      "Why do I get hallucinations [0.00460846 0.9694705  0.00332095 0.02260012] [0 1 0 0]\n",
      "I am stresseed due to lack of financial support in school [6.9679777e-06 9.9993134e-01 1.1701729e-05 4.9991530e-05] [0 1 0 0]\n",
      "Why is life important [1.8232768e-05 9.9984586e-01 2.4858477e-05 1.1094421e-04] [0 1 0 0]\n",
      "How could I be helped to go through the depression [0.01522382 0.89430267 0.01445865 0.07601487] [0 1 0 0]\n"
     ]
    },
    {
     "data": {
      "text/plain": [
       "[None, None, None, None, None]"
      ]
     },
     "execution_count": 36,
     "metadata": {},
     "output_type": "execute_result"
    }
   ],
   "source": [
    "predictions = model.predict(X_test)\n",
    "\n",
    "[print(data['text'][i], predictions[i], y_test[i]) for i in range(0, 5)]"
   ]
  },
  {
   "cell_type": "code",
   "execution_count": 37,
   "id": "551c5d33",
   "metadata": {},
   "outputs": [
    {
     "name": "stdout",
     "output_type": "stream",
     "text": [
      "real_depression 42\n",
      "predicted_depression 43\n",
      "real_alcohol 15\n",
      "predicted_alcohol 10\n",
      "real_suicide 2\n",
      "predicted_suicide 5\n",
      "real_drugs 3\n",
      "predicted_drugs 4\n"
     ]
    }
   ],
   "source": [
    "depression, alcohol, suicide, drugs = 0, 0, 0, 0\n",
    "real_depression, real_alcohol, real_suicide, real_drugs = 0, 0, 0, 0\n",
    "for i, prediction in enumerate(predictions):\n",
    "  if np.argmax(prediction)==3:\n",
    "    suicide+=1\n",
    "  elif np.argmax(prediction)==2:\n",
    "    drugs+=1\n",
    "  elif np.argmax(prediction)==1:\n",
    "    depression+=1\n",
    "  else:\n",
    "    alcohol+=1\n",
    "\n",
    "  if np.argmax(y_test[i])==3:\n",
    "    real_suicide+=1\n",
    "  elif np.argmax(y_test[i])==2:\n",
    "    real_drugs+=1\n",
    "  elif np.argmax(y_test[i])==1:\n",
    "    real_depression+=1\n",
    "  else:\n",
    "    real_alcohol+=1\n",
    "\n",
    "print(\"real_depression\", real_depression)\n",
    "print(\"predicted_depression\", depression)\n",
    "print(\"real_alcohol\", real_alcohol)\n",
    "print(\"predicted_alcohol\", alcohol)\n",
    "print(\"real_suicide\", real_suicide)\n",
    "print(\"predicted_suicide\", suicide)\n",
    "print(\"real_drugs\", real_drugs)\n",
    "print(\"predicted_drugs\", drugs)"
   ]
  },
  {
   "cell_type": "code",
   "execution_count": 38,
   "id": "3bfe2f54",
   "metadata": {},
   "outputs": [],
   "source": [
    "test2=pd.read_csv('Test.csv')\n",
    "data2=test2[['ID','text']]"
   ]
  },
  {
   "cell_type": "code",
   "execution_count": 41,
   "id": "f5e512c8",
   "metadata": {},
   "outputs": [
    {
     "data": {
      "text/html": [
       "<div>\n",
       "<style scoped>\n",
       "    .dataframe tbody tr th:only-of-type {\n",
       "        vertical-align: middle;\n",
       "    }\n",
       "\n",
       "    .dataframe tbody tr th {\n",
       "        vertical-align: top;\n",
       "    }\n",
       "\n",
       "    .dataframe thead th {\n",
       "        text-align: right;\n",
       "    }\n",
       "</style>\n",
       "<table border=\"1\" class=\"dataframe\">\n",
       "  <thead>\n",
       "    <tr style=\"text-align: right;\">\n",
       "      <th></th>\n",
       "      <th>ID</th>\n",
       "      <th>text</th>\n",
       "    </tr>\n",
       "  </thead>\n",
       "  <tbody>\n",
       "    <tr>\n",
       "      <th>0</th>\n",
       "      <td>02V56KMO</td>\n",
       "      <td>How to overcome bad feelings and emotions</td>\n",
       "    </tr>\n",
       "    <tr>\n",
       "      <th>1</th>\n",
       "      <td>03BMGTOK</td>\n",
       "      <td>I feel like giving up in life</td>\n",
       "    </tr>\n",
       "    <tr>\n",
       "      <th>2</th>\n",
       "      <td>03LZVFM6</td>\n",
       "      <td>I was so depressed feel like got no strength t...</td>\n",
       "    </tr>\n",
       "    <tr>\n",
       "      <th>3</th>\n",
       "      <td>0EPULUM5</td>\n",
       "      <td>I feel so low especially since I had no one to...</td>\n",
       "    </tr>\n",
       "    <tr>\n",
       "      <th>4</th>\n",
       "      <td>0GM4C5GD</td>\n",
       "      <td>can i be successful when I am a drug addict?</td>\n",
       "    </tr>\n",
       "  </tbody>\n",
       "</table>\n",
       "</div>"
      ],
      "text/plain": [
       "         ID                                               text\n",
       "0  02V56KMO          How to overcome bad feelings and emotions\n",
       "1  03BMGTOK                     I feel like giving up in life \n",
       "2  03LZVFM6  I was so depressed feel like got no strength t...\n",
       "3  0EPULUM5  I feel so low especially since I had no one to...\n",
       "4  0GM4C5GD       can i be successful when I am a drug addict?"
      ]
     },
     "execution_count": 41,
     "metadata": {},
     "output_type": "execute_result"
    }
   ],
   "source": [
    "data2.head()"
   ]
  },
  {
   "cell_type": "code",
   "execution_count": 42,
   "id": "92238596",
   "metadata": {},
   "outputs": [
    {
     "data": {
      "text/plain": [
       "array([[  0,   0,   0,   0,   0,   0,   0,   0,   0,   0,   0,   0,   0,\n",
       "          0,   0,   0,   0,   0,   3,   2,  33,  63,  83,   7, 575],\n",
       "       [  0,   0,   0,   0,   0,   0,   0,   0,   0,   0,   0,   0,   0,\n",
       "          0,   0,   0,   0,   0,   1,   4,  23, 112,  49,  16,  17],\n",
       "       [  0,   0,   0,   0,   0,   0,   0,   0,   0,   0,   0,   0,   0,\n",
       "          0,   0,   1,  26,  39,  28,   4,  23, 275,  64,   2, 684],\n",
       "       [  0,   0,   0,   0,   0,   0,   0,   0,   0,   0,   0,   0,   1,\n",
       "          4,  39,  40, 545, 724,   1,  72,  64,  32,   2, 195,   2],\n",
       "       [  0,   0,   0,   0,   0,   0,   0,   0,   0,   0,   0,   0,   0,\n",
       "          0,   0,   0,   8,   1,  34,  54,   1,  14,  21, 135, 223]])"
      ]
     },
     "execution_count": 42,
     "metadata": {},
     "output_type": "execute_result"
    }
   ],
   "source": [
    "tokenizer.fit_on_texts(data['text'].values)\n",
    "\n",
    "Z = tokenizer.texts_to_sequences(data2['text'].values)\n",
    "Z = pad_sequences(Z) # padding our text vector so they all have the same length\n",
    "Z[:5]"
   ]
  },
  {
   "cell_type": "code",
   "execution_count": 43,
   "id": "357d8d81",
   "metadata": {},
   "outputs": [
    {
     "name": "stdout",
     "output_type": "stream",
     "text": [
      "WARNING:tensorflow:Model was constructed with shape (None, 35) for input KerasTensor(type_spec=TensorSpec(shape=(None, 35), dtype=tf.float32, name='embedding_5_input'), name='embedding_5_input', description=\"created by layer 'embedding_5_input'\"), but it was called on an input with incompatible shape (None, 25).\n"
     ]
    }
   ],
   "source": [
    "preds2=model.predict(Z)"
   ]
  },
  {
   "cell_type": "code",
   "execution_count": 44,
   "id": "650a9d6e",
   "metadata": {},
   "outputs": [
    {
     "data": {
      "text/plain": [
       "array([[6.1505218e-04, 9.9620557e-01, 4.9650593e-04, 2.6828239e-03],\n",
       "       [1.0523839e-06, 9.9998319e-01, 2.3948344e-06, 1.3359365e-05],\n",
       "       [2.1867942e-07, 9.9999714e-01, 4.7940040e-07, 2.1719763e-06],\n",
       "       ...,\n",
       "       [8.0974802e-02, 6.9643998e-01, 2.8534042e-02, 1.9405118e-01],\n",
       "       [6.1739385e-03, 1.0845151e-03, 9.1070157e-01, 8.2040012e-02],\n",
       "       [1.7969887e-01, 5.8902836e-01, 4.7409106e-02, 1.8386364e-01]],\n",
       "      dtype=float32)"
      ]
     },
     "execution_count": 44,
     "metadata": {},
     "output_type": "execute_result"
    }
   ],
   "source": [
    "preds2"
   ]
  },
  {
   "cell_type": "code",
   "execution_count": 45,
   "id": "b85538f0",
   "metadata": {},
   "outputs": [
    {
     "data": {
      "text/plain": [
       "array([[0., 1., 0., 0.],\n",
       "       [0., 1., 0., 0.],\n",
       "       [0., 1., 0., 0.],\n",
       "       ...,\n",
       "       [0., 1., 0., 0.],\n",
       "       [0., 0., 1., 0.],\n",
       "       [0., 1., 0., 0.]], dtype=float32)"
      ]
     },
     "execution_count": 45,
     "metadata": {},
     "output_type": "execute_result"
    }
   ],
   "source": [
    "preds2.round()"
   ]
  },
  {
   "cell_type": "code",
   "execution_count": 46,
   "id": "3c1370ca",
   "metadata": {},
   "outputs": [
    {
     "data": {
      "text/plain": [
       "(309, 4)"
      ]
     },
     "execution_count": 46,
     "metadata": {},
     "output_type": "execute_result"
    }
   ],
   "source": [
    "preds2.shape"
   ]
  },
  {
   "cell_type": "code",
   "execution_count": 47,
   "id": "1011a8df",
   "metadata": {},
   "outputs": [],
   "source": [
    "preds3=pd.DataFrame(preds2)"
   ]
  },
  {
   "cell_type": "code",
   "execution_count": 48,
   "id": "abe51342",
   "metadata": {},
   "outputs": [],
   "source": [
    "preds3.to_csv('Predictions_Test.csv')"
   ]
  },
  {
   "cell_type": "code",
   "execution_count": null,
   "id": "73deef93",
   "metadata": {},
   "outputs": [],
   "source": []
  }
 ],
 "metadata": {
  "kernelspec": {
   "display_name": "Python 3",
   "language": "python",
   "name": "python3"
  },
  "language_info": {
   "codemirror_mode": {
    "name": "ipython",
    "version": 3
   },
   "file_extension": ".py",
   "mimetype": "text/x-python",
   "name": "python",
   "nbconvert_exporter": "python",
   "pygments_lexer": "ipython3",
   "version": "3.8.8"
  }
 },
 "nbformat": 4,
 "nbformat_minor": 5
}
